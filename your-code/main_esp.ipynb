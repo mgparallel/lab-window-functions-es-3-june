{
 "cells": [
  {
   "cell_type": "markdown",
   "id": "b4ba9fdc",
   "metadata": {},
   "source": [
    "### 1. Calcular la duración media del alquiler (en días) para cada película:"
   ]
  },
  {
   "cell_type": "code",
   "execution_count": 1,
   "id": "c97e6ced-e6b2-4d9c-b448-203e86a4fe5b",
   "metadata": {},
   "outputs": [
    {
     "ename": "SyntaxError",
     "evalue": "invalid syntax (2697617453.py, line 1)",
     "output_type": "error",
     "traceback": [
      "\u001b[0;36m  Cell \u001b[0;32mIn[1], line 1\u001b[0;36m\u001b[0m\n\u001b[0;31m    USE sakila;\u001b[0m\n\u001b[0m        ^\u001b[0m\n\u001b[0;31mSyntaxError\u001b[0m\u001b[0;31m:\u001b[0m invalid syntax\n"
     ]
    }
   ],
   "source": [
    "USE sakila;\n",
    "SHOW TABLES;\n",
    "# -- Calcular la duración media del alquiler (en días) para cada película:\n",
    "# -- film | inventory 'film_id'\n",
    "# -- inventory | rental 'rental_id'\n",
    "SELECT f.title, f.rental_duration, AVG(DATEDIFF(r.return_date, r.rental_date)) AS avg_rental_duration\n",
    "FROM film f\n",
    "LEFT JOIN inventory i\n",
    "\tON f.film_id = i.film_id\n",
    "LEFT JOIN rental r\n",
    "\tON i.inventory_id = r.inventory_id\n",
    "GROUP BY f.title, f.rental_duration\n",
    "ORDER BY f.title\n",
    ";"
   ]
  },
  {
   "cell_type": "markdown",
   "id": "976e6175",
   "metadata": {},
   "source": [
    "|title|rental_duration|avg_rental_duration|\n",
    "|-----|---------------|-------------------|\n",
    "|ACADEMY DINOSAUR|6              |4.9850             |\n",
    "|ACE GOLDFINGER|3              |4.9850             |\n",
    "|ADAPTATION HOLES|7              |4.9850             |\n",
    "|AFFAIR PREJUDICE|5              |4.9850             |\n",
    "|AFRICAN EGG|6              |4.9850             |\n",
    "|AGENT TRUMAN|3              |4.9850             |\n",
    "|AIRPLANE SIERRA|6              |4.9850             |\n",
    "|AIRPORT POLLOCK|6              |4.9850             |\n",
    "|ALABAMA DEVIL|3              |4.9850             |\n",
    "|ALADDIN CALENDAR|6              |4.9850             |\n",
    "|ALAMO VIDEOTAPE|6              |4.9850             |\n",
    "|ALASKA PHANTOM|6              |4.9850             |\n",
    "|ALI FOREVER|4              |4.9850             |\n",
    "|ALICE FANTASIA|6              |4.9850             |\n"
   ]
  },
  {
   "cell_type": "markdown",
   "id": "c7f7ea37",
   "metadata": {},
   "source": [
    "### 2. Calcular el importe medio de los pagos para cada miembro del personal:"
   ]
  },
  {
   "cell_type": "code",
   "execution_count": 2,
   "id": "f0cb7ef2-5a75-497a-83f6-63cbfd63fce5",
   "metadata": {},
   "outputs": [
    {
     "ename": "IndentationError",
     "evalue": "unexpected indent (154308402.py, line 2)",
     "output_type": "error",
     "traceback": [
      "\u001b[0;36m  Cell \u001b[0;32mIn[2], line 2\u001b[0;36m\u001b[0m\n\u001b[0;31m    temp_income.staff_id,\u001b[0m\n\u001b[0m    ^\u001b[0m\n\u001b[0;31mIndentationError\u001b[0m\u001b[0;31m:\u001b[0m unexpected indent\n"
     ]
    }
   ],
   "source": [
    "SELECT \n",
    "    temp_income.staff_id, \n",
    "    (total_income/base_payment) AS avg_payment_amount\n",
    "FROM (\n",
    "    SELECT \n",
    "        s.staff_id,\n",
    "        COUNT(p.payment_id) AS base_payment,\n",
    "        SUM(p.amount) AS total_income\n",
    "    FROM \n",
    "        staff s\n",
    "    LEFT JOIN \n",
    "        rental r ON s.staff_id = r.staff_id\n",
    "    LEFT JOIN \n",
    "        payment p ON r.rental_id = p.rental_id\n",
    "    GROUP BY \n",
    "        s.staff_id\n",
    ") AS temp_income\n",
    "GROUP BY \n",
    "    temp_income.staff_id\n",
    ";"
   ]
  },
  {
   "cell_type": "markdown",
   "id": "fc636d47",
   "metadata": {},
   "source": [
    "#### Output\n",
    "\n",
    "|staff_id|avg_payment_amount|\n",
    "|--------|------------------|\n",
    "|1       |4.156568          |\n",
    "|1       |4.156568          |\n",
    "|1       |4.156568          |\n",
    "|1       |4.156568          |\n",
    "|1       |4.156568          |\n",
    "|1       |4.156568          |\n",
    "|1       |4.156568          |"
   ]
  },
  {
   "cell_type": "markdown",
   "id": "d307de0e",
   "metadata": {},
   "source": [
    "### 3. Calcular los ingresos totales para cada cliente, mostrando el total acumulado dentro del historial de alquileres de cada cliente:"
   ]
  },
  {
   "cell_type": "code",
   "execution_count": 4,
   "id": "f791350b-5b9d-4edf-b747-3078090b5cf1",
   "metadata": {},
   "outputs": [
    {
     "ename": "IndentationError",
     "evalue": "unindent does not match any outer indentation level (<string>, line 3)",
     "output_type": "error",
     "traceback": [
      "\u001b[0;36m  File \u001b[0;32m<string>:3\u001b[0;36m\u001b[0m\n\u001b[0;31m    r.rental_id,\u001b[0m\n\u001b[0m                ^\u001b[0m\n\u001b[0;31mIndentationError\u001b[0m\u001b[0;31m:\u001b[0m unindent does not match any outer indentation level\n"
     ]
    }
   ],
   "source": [
    "SELECT\n",
    "\tc.customer_id,\n",
    "    r.rental_id,\n",
    "    r.rental_date,\n",
    "    p.amount,\n",
    "    SUM(p.amount) OVER (PARTITION BY c.customer_id ORDER BY r.rental_id, r.rental_date) AS running_total\n",
    "FROM customer c\n",
    "LEFT JOIN rental r\n",
    "\tON c.customer_id = r.customer_id\n",
    "LEFT JOIN payment p\n",
    "\tON r.rental_id = p.rental_id\n",
    ";"
   ]
  },
  {
   "cell_type": "markdown",
   "id": "321655d4",
   "metadata": {},
   "source": [
    "#### Output\n",
    "\n",
    "|customer_id|rental_id|rental_date        |amount|running_total|\n",
    "|-----------|---------|-------------------|------|-------------|\n",
    "|1          |76       |2005-05-25 11:30:37|2.99  |2.99         |\n",
    "|1          |573      |2005-05-28 10:35:23|0.99  |3.98         |\n",
    "|1          |1185     |2005-06-15 00:54:12|5.99  |9.97         |\n",
    "|1          |1422     |2005-06-15 18:02:53|0.99  |10.96        |\n",
    "|1          |1476     |2005-06-15 21:08:46|9.99  |20.95        |\n",
    "|1          |1725     |2005-06-16 15:18:57|4.99  |25.94        |\n",
    "|1          |2308     |2005-06-18 08:41:48|4.99  |30.93        |\n",
    "|1          |2363     |2005-06-18 13:33:59|0.99  |31.92        |\n",
    "|1          |3284     |2005-06-21 06:24:45|3.99  |35.91        |\n",
    "|1          |4526     |2005-07-08 03:17:05|5.99  |41.90        |"
   ]
  },
  {
   "cell_type": "markdown",
   "id": "e4eb28f2",
   "metadata": {},
   "source": [
    "### 4. Determinar el cuartil para las tarifas de alquiler de las películas"
   ]
  },
  {
   "cell_type": "code",
   "execution_count": 2,
   "id": "c4eedf90-fc08-41d6-94a0-2572e668c1b8",
   "metadata": {},
   "outputs": [
    {
     "ename": "IndentationError",
     "evalue": "unindent does not match any outer indentation level (<string>, line 3)",
     "output_type": "error",
     "traceback": [
      "\u001b[0;36m  File \u001b[0;32m<string>:3\u001b[0;36m\u001b[0m\n\u001b[0;31m    f.rental_rate,\u001b[0m\n\u001b[0m                  ^\u001b[0m\n\u001b[0;31mIndentationError\u001b[0m\u001b[0;31m:\u001b[0m unindent does not match any outer indentation level\n"
     ]
    }
   ],
   "source": [
    "SELECT \n",
    "\tf.title,\n",
    "    f.rental_rate,\n",
    "    NTILE(1) OVER (PARTITION BY f.title ORDER BY f.title) AS quartile\n",
    "FROM film f\n",
    "LEFT JOIN inventory i\n",
    "\tON f.film_id = i.film_id\n",
    "LEFT JOIN rental re\n",
    "\tON i.inventory_id = re.inventory_id\n",
    "LEFT JOIN payment p\n",
    "\tON re.rental_id = p.rental_id\n",
    "GROUP BY f.title, f.rental_rate\n",
    ";"
   ]
  },
  {
   "cell_type": "markdown",
   "id": "2e644f07",
   "metadata": {},
   "source": [
    "#### Output\n",
    "\n",
    "|title|rental_rate|quartile           |\n",
    "|-----|-----------|-------------------|\n",
    "|ACADEMY DINOSAUR|0.99       |1                  |\n",
    "|ALAMO VIDEOTAPE|0.99       |1                  |\n",
    "|ALASKA PHANTOM|0.99       |1                  |\n",
    "|ALICE FANTASIA|0.99       |1                  |\n",
    "|ALONE TRIP|0.99       |1                  |\n",
    "|ALTER VICTORY|0.99       |1                  |\n",
    "|AMADEUS HOLY|0.99       |1                  |\n",
    "|ANACONDA CONFESSIONS|0.99       |1                  |\n",
    "|ANNIE IDENTITY|0.99       |1                  |\n",
    "|ANONYMOUS HUMAN|0.99       |1                  |\n"
   ]
  },
  {
   "cell_type": "markdown",
   "id": "dba9ef04",
   "metadata": {},
   "source": [
    "### 5. Determinar la primera y última fecha de alquiler para cada cliente:"
   ]
  },
  {
   "cell_type": "code",
   "execution_count": 2,
   "id": "555526a4-c2e6-40fa-b8d9-9792b71a6816",
   "metadata": {},
   "outputs": [
    {
     "ename": "IndentationError",
     "evalue": "unindent does not match any outer indentation level (<string>, line 3)",
     "output_type": "error",
     "traceback": [
      "\u001b[0;36m  File \u001b[0;32m<string>:3\u001b[0;36m\u001b[0m\n\u001b[0;31m    MIN(r.rental_date) AS first_rental_date,\u001b[0m\n\u001b[0m                                            ^\u001b[0m\n\u001b[0;31mIndentationError\u001b[0m\u001b[0;31m:\u001b[0m unindent does not match any outer indentation level\n"
     ]
    }
   ],
   "source": [
    "SELECT \n",
    "\tcs.customer_id,\n",
    "    MIN(r.rental_date) AS first_rental_date,\n",
    "    MAX(r.rental_date) AS last_rental_date\n",
    "FROM customer cs\n",
    "LEFT JOIN rental r\n",
    "\tON cs.customer_id = r.customer_id\n",
    "GROUP BY cs.customer_id\n",
    ";"
   ]
  },
  {
   "cell_type": "markdown",
   "id": "d95dab7b",
   "metadata": {},
   "source": [
    "#### Expected result\n",
    "\n",
    "|customer_id|first_rental_date|last_rental_date   |\n",
    "|-----------|-----------------|-------------------|\n",
    "|1          |2005-05-25 11:30:37|2005-08-22 20:03:46|\n",
    "|1          |2005-05-25 11:30:37|2005-08-22 20:03:46|\n",
    "|1          |2005-05-25 11:30:37|2005-08-22 20:03:46|\n",
    "|1          |2005-05-25 11:30:37|2005-08-22 20:03:46|\n",
    "|1          |2005-05-25 11:30:37|2005-08-22 20:03:46|\n",
    "|1          |2005-05-25 11:30:37|2005-08-22 20:03:46|\n",
    "|1          |2005-05-25 11:30:37|2005-08-22 20:03:46|\n",
    "|1          |2005-05-25 11:30:37|2005-08-22 20:03:46|\n",
    "|1          |2005-05-25 11:30:37|2005-08-22 20:03:46|\n",
    "|1          |2005-05-25 11:30:37|2005-08-22 20:03:46|\n",
    "|1          |2005-05-25 11:30:37|2005-08-22 20:03:46|\n",
    "|1          |2005-05-25 11:30:37|2005-08-22 20:03:46|\n",
    "|1          |2005-05-25 11:30:37|2005-08-22 20:03:46|\n"
   ]
  },
  {
   "cell_type": "markdown",
   "id": "fdda139f",
   "metadata": {},
   "source": [
    "### 6. Calcular el rango de los clientes basado en el número de sus alquileres:"
   ]
  },
  {
   "cell_type": "markdown",
   "id": "29296a57",
   "metadata": {},
   "source": [
    "#### Expected output\n",
    "\n",
    "|customer_id|rental_count                 |rental_count_rank|\n",
    "|-----------|-----------------------------|-----------------|\n",
    "|148        |46                           |1                |\n",
    "|526        |45                           |2                |\n",
    "|144        |42                           |3                |\n",
    "|236        |42                           |3                |\n",
    "|75         |41                           |5                |\n",
    "|197        |40                           |6                |\n",
    "...|...|..."
   ]
  },
  {
   "cell_type": "markdown",
   "id": "fa2f2063-e0c7-4156-929b-62d68b547d61",
   "metadata": {},
   "source": [
    "### 7. Calcular el total acumulado de ingresos por día para la categoría de películas 'Familiar':"
   ]
  },
  {
   "cell_type": "code",
   "execution_count": 6,
   "id": "bfd7604c-8fbb-44ba-a7e6-05de20853056",
   "metadata": {},
   "outputs": [
    {
     "ename": "IndentationError",
     "evalue": "unindent does not match any outer indentation level (<string>, line 3)",
     "output_type": "error",
     "traceback": [
      "\u001b[0;36m  File \u001b[0;32m<string>:3\u001b[0;36m\u001b[0m\n\u001b[0;31m    r.rental_date,\u001b[0m\n\u001b[0m                  ^\u001b[0m\n\u001b[0;31mIndentationError\u001b[0m\u001b[0;31m:\u001b[0m unindent does not match any outer indentation level\n"
     ]
    }
   ],
   "source": [
    "SELECT\n",
    "\tf.title,\n",
    "    r.rental_date,\n",
    "    p.amount,\n",
    "\tSUM(p.amount) OVER (PARTITION BY r.rental_date) AS daily_revenue\n",
    "FROM film_category fc\n",
    "LEFT JOIN film f\n",
    "\tON fc.film_id = f.film_id\n",
    "LEFT JOIN inventory iv\n",
    "\tON f.film_id = iv.film_id\n",
    "LEFT JOIN rental r\n",
    "\tON iv.inventory_id = r.inventory_id\n",
    "LEFT JOIN payment p\n",
    "\tON r.rental_id = p.rental_id\n",
    "WHERE fc.category_id = 8\n",
    "GROUP BY r.rental_date, f.title, p.amount\n",
    "HAVING SUM(p.amount) IS NOT NULL\n",
    ";"
   ]
  },
  {
   "cell_type": "markdown",
   "id": "4802a08f",
   "metadata": {},
   "source": [
    "#### Expected ouput\n",
    "\n",
    "|film_category|rental_date                  |amount|daily_revenue|\n",
    "|-------------|-----------------------------|------|-------------|\n",
    "|BLANKET BEVERLY|2005-05-24 22:53:30          |2.99  |2.99         |\n",
    "|GRADUATE LORD|2005-05-24 23:03:39          |3.99  |3.99         |\n",
    "|LAWLESS VISION|2005-05-24 23:31:46          |4.99  |4.99         |\n",
    "|HANGING DEEP |2005-05-25 00:02:21          |5.99  |5.99         |\n",
    "|MONTEREY LABYRINTH|2005-05-25 00:31:15          |0.99  |0.99         |\n",
    "|SCISSORHANDS SLUMS|2005-05-25 01:48:41          |2.99  |2.99         |\n",
    "|EASY GLADIATOR|2005-05-25 03:41:50          |4.99  |4.99         |"
   ]
  },
  {
   "cell_type": "markdown",
   "id": "039b57eb",
   "metadata": {},
   "source": [
    "### 8. Asignar un ID único a cada pago dentro del historial de pagos de cada cliente:"
   ]
  },
  {
   "cell_type": "code",
   "execution_count": 8,
   "id": "4f226ef2-37fa-4e9f-bcfb-9fa3c60a552c",
   "metadata": {},
   "outputs": [
    {
     "ename": "IndentationError",
     "evalue": "unindent does not match any outer indentation level (<string>, line 3)",
     "output_type": "error",
     "traceback": [
      "\u001b[0;36m  File \u001b[0;32m<string>:3\u001b[0;36m\u001b[0m\n\u001b[0;31m    p.payment_id,\u001b[0m\n\u001b[0m                 ^\u001b[0m\n\u001b[0;31mIndentationError\u001b[0m\u001b[0;31m:\u001b[0m unindent does not match any outer indentation level\n"
     ]
    }
   ],
   "source": [
    "SELECT \n",
    "\tc.customer_id,\n",
    "    p.payment_id,\n",
    "    ROW_NUMBER() OVER (PARTITION BY c.customer_id) AS payment_sequence_id\n",
    "FROM customer c\n",
    "LEFT JOIN rental r\n",
    "\tON c.customer_id = r.customer_id\n",
    "LEFT JOIN payment p\n",
    "\tON r.rental_id = p.rental_id\n",
    ";"
   ]
  },
  {
   "cell_type": "markdown",
   "id": "88d9603a",
   "metadata": {},
   "source": [
    "|customer_id|payment_id|payment_sequence_id|\n",
    "|-----------|----------|-------------------|\n",
    "|1          |1         |1                  |\n",
    "|1          |2         |2                  |\n",
    "|1          |3         |3                  |\n",
    "|1          |4         |4                  |\n",
    "|1          |5         |5                  |\n",
    "|1          |6         |6                  |\n",
    "|1          |7         |7                  |\n",
    "|1          |8         |8                  |\n",
    "|1          |9         |9                  |\n",
    "|1          |10        |10                 |\n",
    "|1          |11        |11                 |\n",
    "|1          |12        |12                 |\n",
    "|1          |13        |13                 |\n",
    "|1          |14        |14                 |\n",
    "|1          |15        |15                 |\n",
    "|1          |16        |16                 |\n",
    "|1          |17        |17                 |\n",
    "|1          |18        |18                 |\n",
    "|1          |19        |19                 |\n",
    "|1          |20        |20                 |\n",
    "|1          |21        |21                 |\n",
    "|1          |22        |22                 |\n",
    "|1          |23        |23                 |\n",
    "|1          |24        |24                 |\n",
    "|1          |25        |25                 |\n",
    "|1          |26        |26                 |\n",
    "|1          |27        |27                 |\n",
    "|1          |28        |28                 |\n",
    "|1          |29        |29                 |\n",
    "|1          |30        |30                 |\n",
    "|1          |31        |31                 |\n",
    "|1          |32        |32                 |\n",
    "|2          |33        |1                  |\n",
    "|2          |34        |2                  |\n",
    "|2          |35        |3                  |\n",
    "|2          |36        |4                  |\n",
    "|2          |37        |5                  |\n",
    "|2          |38        |6                  |\n",
    "|2          |39        |7                  |\n",
    "|2          |40        |8                  |\n",
    "|2          |41        |9                  |\n",
    "|2          |42        |10                 |\n",
    "|2          |43        |11                 |\n",
    "|2          |44        |12                 |\n"
   ]
  },
  {
   "cell_type": "markdown",
   "id": "2585681e",
   "metadata": {},
   "source": [
    "### 9. Calcular la diferencia en días entre cada alquiler y el alquiler anterior para cada cliente:"
   ]
  },
  {
   "cell_type": "markdown",
   "id": "b1628e16",
   "metadata": {},
   "source": [
    "```sql\n",
    "-- Your code down below\n",
    "```"
   ]
  },
  {
   "cell_type": "markdown",
   "id": "cdb997aa",
   "metadata": {},
   "source": [
    "#### Expected output\n",
    "\n",
    "\n",
    "|customer_id|rental_id|rental_date        |previous_rental_date|days_between_rentals|\n",
    "|-----------|---------|-------------------|--------------------|--------------------|\n",
    "|1          |76       |2005-05-25 11:30:37|NULL                |NULL                |\n",
    "|1          |573      |2005-05-28 10:35:23|2005-05-25 11:30:37 |3                   |\n",
    "|1          |1185     |2005-06-15 00:54:12|2005-05-28 10:35:23 |18                  |\n",
    "|1          |1422     |2005-06-15 18:02:53|2005-06-15 00:54:12 |0                   |\n",
    "|1          |1476     |2005-06-15 21:08:46|2005-06-15 18:02:53 |0                   |\n",
    "|1          |1725     |2005-06-16 15:18:57|2005-06-15 21:08:46 |1                   |\n",
    "|1          |2308     |2005-06-18 08:41:48|2005-06-16 15:18:57 |2                   |\n",
    "|1          |2363     |2005-06-18 13:33:59|2005-06-18 08:41:48 |0                   |\n",
    "|1          |3284     |2005-06-21 06:24:45|2005-06-18 13:33:59 |3                   |\n",
    "|1          |4526     |2005-07-08 03:17:05|2005-06-21 06:24:45 |17                  |\n",
    "|1          |4611     |2005-07-08 07:33:56|2005-07-08 03:17:05 |0                   |\n",
    "\n"
   ]
  }
 ],
 "metadata": {
  "kernelspec": {
   "display_name": "Python 3 (ipykernel)",
   "language": "python",
   "name": "python3"
  },
  "language_info": {
   "codemirror_mode": {
    "name": "ipython",
    "version": 3
   },
   "file_extension": ".py",
   "mimetype": "text/x-python",
   "name": "python",
   "nbconvert_exporter": "python",
   "pygments_lexer": "ipython3",
   "version": "3.12.3"
  },
  "nbTranslate": {
   "displayLangs": [
    "en",
    "es"
   ],
   "hotkey": "alt-a",
   "langInMainMenu": true,
   "sourceLang": "es",
   "targetLang": "en",
   "useGoogleTranslate": true
  }
 },
 "nbformat": 4,
 "nbformat_minor": 5
}
